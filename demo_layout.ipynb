{
 "cells": [
  {
   "cell_type": "code",
   "execution_count": 30,
   "metadata": {},
   "outputs": [
    {
     "data": {
      "text/html": [
       "<style>.container { width:90% !important; }</style>"
      ],
      "text/plain": [
       "<IPython.core.display.HTML object>"
      ]
     },
     "metadata": {},
     "output_type": "display_data"
    },
    {
     "data": {
      "application/vnd.jupyter.widget-view+json": {
       "model_id": "d2cd7c9249ff431086dbe65b8b03e2da",
       "version_major": 2,
       "version_minor": 0
      },
      "text/plain": [
       "Canvas(toolbar=Toolbar(toolitems=[('Home', 'Reset original view', 'home', 'home'), ('Back', 'Back to previous …"
      ]
     },
     "metadata": {},
     "output_type": "display_data"
    },
    {
     "data": {
      "application/vnd.jupyter.widget-view+json": {
       "model_id": "c6692c1962394238911e70f00aeeb78f",
       "version_major": 2,
       "version_minor": 0
      },
      "text/plain": [
       "Canvas(toolbar=Toolbar(toolitems=[('Home', 'Reset original view', 'home', 'home'), ('Back', 'Back to previous …"
      ]
     },
     "metadata": {},
     "output_type": "display_data"
    }
   ],
   "source": [
    "%reload_ext autoreload\n",
    "%autoreload 2\n",
    "from IPython.core.display import display, HTML\n",
    "display(HTML(\"<style>.container { width:90% !important; }</style>\"))\n",
    "\n",
    "%matplotlib widget\n",
    "import matplotlib.pyplot as plt\n",
    "from utils import SimpleScene\n",
    "from utils_SL_bbox import get_corners_of_bb3d\n",
    "\n",
    "import numpy as np\n",
    "np.set_printoptions(precision=3)\n",
    "np.set_printoptions(suppress=True)\n",
    "\n",
    "basis = np.array([[1., 0., 0.], [0., 1., 0.], [0., 0., 1.]])\n",
    "coeffs = [0.5, 0.5, 0.5] # half length\n",
    "centroid = np.array([coeffs[0], coeffs[1], coeffs[2]]).reshape((1, 3))\n",
    "\n",
    "bbox = get_corners_of_bb3d(basis, coeffs, centroid)\n",
    "\n",
    "cam_dict = {'origin': np.array([1.5, 0.5, 1.5]), 'cam_axes': np.array([[-1., 0., -1.], [0., 1., 0.], [1., 0., -1]]), 'fov_x': 90., 'fov_y': 90., 'width': 240, 'height': 320}\n",
    "scene = SimpleScene(cam_dict)\n",
    "# x = np.array([0., 1., 0.]).reshape((1, 3))\n",
    "# cam.transform_and_proj(x)\n",
    "\n",
    "ax_3d = scene.vis_3d(bbox)\n",
    "ax_2d = scene.vis_2d_bbox_proj(bbox, if_show=False)"
   ]
  },
  {
   "cell_type": "code",
   "execution_count": 25,
   "metadata": {},
   "outputs": [
    {
     "data": {
      "text/plain": [
       "array([[119.   , 102.431],\n",
       "       [ 79.   ,  83.575],\n",
       "       [119.   ,  45.863],\n",
       "       [159.   ,  83.575],\n",
       "       [119.   , 159.   ],\n",
       "       [ 79.   , 159.   ],\n",
       "       [119.   , 159.   ],\n",
       "       [159.   , 159.   ]])"
      ]
     },
     "execution_count": 25,
     "metadata": {},
     "output_type": "execute_result"
    }
   ],
   "source": [
    "bbox_proj"
   ]
  },
  {
   "cell_type": "code",
   "execution_count": 26,
   "metadata": {},
   "outputs": [
    {
     "data": {
      "text/plain": [
       "[]"
      ]
     },
     "execution_count": 26,
     "metadata": {},
     "output_type": "execute_result"
    }
   ],
   "source": [
    "bbox_invalid_ids"
   ]
  },
  {
   "cell_type": "code",
   "execution_count": 63,
   "metadata": {},
   "outputs": [
    {
     "data": {
      "text/plain": [
       "(1, 3)"
      ]
     },
     "execution_count": 63,
     "metadata": {},
     "output_type": "execute_result"
    }
   ],
   "source": [
    "cam.transform(x).shape"
   ]
  },
  {
   "cell_type": "code",
   "execution_count": 31,
   "metadata": {},
   "outputs": [],
   "source": []
  }
 ],
 "metadata": {
  "kernelspec": {
   "display_name": "Python [conda env:semanticInverse] *",
   "language": "python",
   "name": "conda-env-semanticInverse-py"
  },
  "language_info": {
   "codemirror_mode": {
    "name": "ipython",
    "version": 3
   },
   "file_extension": ".py",
   "mimetype": "text/x-python",
   "name": "python",
   "nbconvert_exporter": "python",
   "pygments_lexer": "ipython3",
   "version": "3.7.9"
  }
 },
 "nbformat": 4,
 "nbformat_minor": 4
}
